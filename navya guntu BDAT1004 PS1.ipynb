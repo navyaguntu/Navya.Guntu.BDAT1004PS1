{
 "cells": [
  {
   "cell_type": "markdown",
   "id": "7e058802",
   "metadata": {},
   "source": [
    "# Question 1 C#\n",
    "## What data type is each of the following?\n",
    "5 \n",
    "\n",
    "5.0\n",
    "\n",
    "5 > 1\n",
    "\n",
    "'5'\n",
    "\n",
    "5 * 2\n",
    "\n",
    "'5' * 2\n",
    "\n",
    "'5' + '2'\n",
    "\n",
    "5 / 2\n",
    "\n",
    "5 % 2\n",
    "\n",
    "{5, 2, 1}\n",
    "\n",
    "5 == 3\n",
    "\n",
    "Pi (the number)"
   ]
  },
  {
   "cell_type": "markdown",
   "id": "257327f4",
   "metadata": {},
   "source": [
    "## Solution\n",
    "\n",
    "5 is an integer data type\n",
    "\n",
    "5.0 is a float data type\n",
    "\n",
    "5>1 returns true and is boolean type\n",
    "\n",
    "'5' is string data type\n",
    "\n",
    "5*2 is integer data type\n",
    "\n",
    "'5'*2 = 106 which is an integer\n",
    "\n",
    "'5'+'2' is an integer results in 103\n",
    "\n",
    "5/2 is a an integer gives value 2\n",
    "\n",
    "5%2 is a an integer gives value 1\n",
    "\n",
    "{5, 2, 1} is a listt declaration\n",
    "\n",
    "5==3 is a boolean type as it returns false\n",
    "\n",
    "Pi is stored as a double value until 15 decimal digits\n"
   ]
  },
  {
   "cell_type": "markdown",
   "id": "74674128",
   "metadata": {},
   "source": [
    "# Question 2 C#\n",
    "## Write (and evaluate) C# expressions that answer these questions:\n",
    "a. How many letters are there in 'Supercalifragilisticexpialidocious'?\n",
    "\n",
    "b. Does 'Supercalifragilisticexpialidocious' contain 'ice' as a substring?\n",
    "\n",
    "c. Which of the following words is the longest:\n",
    "Supercalifragilisticexpialidocious, Honorificabilitudinitatibus, or\n",
    "Bababadalgharaghtakamminarronnkonn?\n",
    "\n",
    "d. Which composer comes first in the dictionary: 'Berlioz', 'Borodin', 'Brian',\n",
    "'Bartok', 'Bellini', 'Buxtehude', 'Bernstein'. Which one comes last?"
   ]
  },
  {
   "cell_type": "markdown",
   "id": "0d80203f",
   "metadata": {},
   "source": [
    "## Solution\n",
    "## a)How many letters are there in 'Supercalifragilisticexpialidocious'?\n"
   ]
  },
  {
   "cell_type": "code",
   "execution_count": null,
   "id": "07a8de74",
   "metadata": {},
   "outputs": [],
   "source": [
    "\n",
    "using System;\n",
    "\n",
    "\n",
    "namespace VISUALSTUDIO\n",
    "{\n",
    "  class Program\n",
    "  {\n",
    "    static void Main(string[] args)\n",
    "    {\n",
    "      string check_string = \"Supercalifragilisticexpialidocious\";\n",
    "      int len = check_string.Length;\n",
    "      Console.WriteLine(len);  \n",
    "    }\n",
    "  }\n",
    "}"
   ]
  },
  {
   "cell_type": "markdown",
   "id": "ab703f75",
   "metadata": {},
   "source": [
    "![title](2a.png)"
   ]
  },
  {
   "cell_type": "markdown",
   "id": "02971539",
   "metadata": {},
   "source": [
    "## b)Does 'Supercalifragilisticexpialidocious' contain 'ice' as a substring?"
   ]
  },
  {
   "cell_type": "code",
   "execution_count": null,
   "id": "123d5ce5",
   "metadata": {},
   "outputs": [],
   "source": [
    "using System; //Visual Studio Syntax\n",
    "\n",
    "namespace VISUALSTUDIO\n",
    "{\n",
    "  class Program\n",
    "  {\n",
    "    static void Main(string[] args)\n",
    "    {\n",
    "          string check_str = \"Supercalifragilisticexpialidocious\";\n",
    "        string sub_string = \"ice\";\n",
    "        Console.WriteLine(check_str.Contains(sub_string));\n",
    "  }\n",
    "}\n",
    "}"
   ]
  },
  {
   "cell_type": "markdown",
   "id": "c33d00db",
   "metadata": {},
   "source": [
    "![title](2b.png)"
   ]
  },
  {
   "cell_type": "markdown",
   "id": "370124bb",
   "metadata": {},
   "source": [
    "## c) Which of the following words is the longest: Supercalifragilisticexpialidocious, Honorificabilitudinitatibus, or Bababadalgharaghtakamminarronnkonn?"
   ]
  },
  {
   "cell_type": "code",
   "execution_count": null,
   "id": "127812b4",
   "metadata": {},
   "outputs": [],
   "source": [
    "using System.Linq;\n",
    "using System;\n",
    "using System.Collections;\n",
    "\n",
    "namespace VISUALSTUDIO\n",
    "{\n",
    "  class Program\n",
    "  {\n",
    "    static void Main(string[] args)\n",
    "    {\n",
    "          \n",
    "    string check_string1 = \"Supercalifragilisticexpialidocious\";\n",
    "    string check_string2 = \"Honorificabilitudinitatibus\";\n",
    "    string check_string3 = \"Bababadalgharaghtakamminarronnkonn\";\n",
    "\n",
    "    string[] words = new string[] { check_string1, check_string2, check_string3 };\n",
    "    int[] words_length = new int[] { check_string1.Length, check_string2.Length, check_string3.Length };\n",
    "    int max_val = words_length.Max();\n",
    "\n",
    "\n",
    "    if (words_length.Length != words_length.Distinct().Count())\n",
    "    {\n",
    "        string longest_words=\"\";\n",
    "        for (int i = 0; i < words_length.Length; i++)\n",
    "        {\n",
    "            if(words_length[i] == max_val) {\n",
    "                longest_words= longest_words+ words[i]+ \" \"; };\n",
    "        }\n",
    "        Console.WriteLine(\"The longest words are:\");\n",
    "        Console.WriteLine(longest_words);\n",
    "    }\n",
    "\n",
    "    else\n",
    "    {\n",
    "        Console.WriteLine(\"The longest word is:\");\n",
    "        if (max_val == check_string1.Length) Console.WriteLine(check_string1);\n",
    "        else if (max_val == check_string2.Length) Console.WriteLine(check_string2);\n",
    "        else Console.WriteLine(check_string3);\n",
    "    }\n",
    "  }\n",
    "}\n",
    "}\n"
   ]
  },
  {
   "cell_type": "markdown",
   "id": "a5d6f5c6",
   "metadata": {},
   "source": [
    "![title](2c.png)"
   ]
  },
  {
   "cell_type": "markdown",
   "id": "8bfb7a93",
   "metadata": {},
   "source": [
    "## d) Which composer comes first in the dictionary: 'Berlioz', 'Borodin', 'Brian', 'Bartok', 'Bellini', 'Buxtehude', 'Bernstein'. Which one comes last?"
   ]
  },
  {
   "cell_type": "code",
   "execution_count": null,
   "id": "ecddbeb2",
   "metadata": {},
   "outputs": [],
   "source": [
    "using System.Linq;\n",
    "using System;\n",
    "using System.Collections;\n",
    "\n",
    "namespace VISUALSTUDIO\n",
    "{\n",
    "  class Program\n",
    "  {\n",
    "    static void Main(string[] args)\n",
    "    {\n",
    "         \n",
    "    string[] UNSORTED_INPUT = new string[] { \"Berlioz\", \"Borodin\", \"Brian\",\n",
    "    \"Bartok\", \"Bellini\", \"Buxtehude\", \"Bernstein\" };\n",
    "\n",
    "    Array.Sort(UNSORTED_INPUT,StringComparer.InvariantCulture);\n",
    "    foreach (string word in UNSORTED_INPUT) { Console.WriteLine(word); };\n",
    "  }\n",
    "}\n",
    "}"
   ]
  },
  {
   "cell_type": "markdown",
   "id": "720cd4b9",
   "metadata": {},
   "source": [
    "![title](2d.png)"
   ]
  },
  {
   "cell_type": "markdown",
   "id": "0de6a76f",
   "metadata": {},
   "source": [
    "# Question 3 C#\n",
    " Implement function triangleArea(a,b,c) that takes as input the lengths of the 3\n",
    " sides of a triangle and returns the area of the triangle. By Heron's formula, the area\n",
    " of a triangle with side lengths a, b, and c is\n",
    "s(s - a)(s -b)(s -c)\n",
    ", where\n",
    " s = (a+b+c)/2. "
   ]
  },
  {
   "cell_type": "code",
   "execution_count": null,
   "id": "d48b404b",
   "metadata": {},
   "outputs": [],
   "source": [
    "using System.Linq;\n",
    "using System;\n",
    "using System.Collections;\n",
    "\n",
    "namespace VISUALSTUDIO\n",
    "{\n",
    "  class Program\n",
    "  {\n",
    "    static void Main(string[] args)\n",
    "    {\n",
    "         \n",
    "        Console.WriteLine(\"Give input for 3 sides of triangle\");\n",
    "\n",
    "        int a= Convert.ToInt32(Console.ReadLine()); \n",
    "        int b = Convert.ToInt32(Console.ReadLine());\n",
    "        int c = Convert.ToInt32(Console.ReadLine());\n",
    "        int s= (a+b+c)/2;\n",
    "        int area= s*(s-a)*(s-b)*(s-c);\n",
    "        Console.WriteLine(\"Area of triangle is: \");\n",
    "        Console.WriteLine(Math.Sqrt(area));\n",
    "  }\n",
    "}\n",
    "}"
   ]
  },
  {
   "cell_type": "markdown",
   "id": "d8a9bf79",
   "metadata": {},
   "source": [
    "![title](3.png)"
   ]
  },
  {
   "cell_type": "markdown",
   "id": "c480146f",
   "metadata": {},
   "source": [
    "# Question 4 C#\n",
    "## Write a program in C# Sharp to separate odd and even integers in separate arrays.\n",
    "Go to the editor\n",
    "\n",
    "Test Data :\n",
    "\n",
    "Input the number of elements to be stored in the array :5\n",
    "\n",
    "Input 5 elements in the array :\n",
    "\n",
    "element - 0 : 25\n",
    "\n",
    "element - 1 : 47\n",
    "\n",
    "element - 2 : 42\n",
    "\n",
    "element - 3 : 56\n",
    "\n",
    "element - 4 : 32\n",
    "\n",
    "Expected Output:\n",
    "\n",
    "The Even elements are:\n",
    "\n",
    "42 56 32\n",
    "\n",
    "The Odd elements are :\n",
    "\n",
    "25 47"
   ]
  },
  {
   "cell_type": "code",
   "execution_count": null,
   "id": "b84ceb77",
   "metadata": {},
   "outputs": [],
   "source": [
    "using System.Linq;\n",
    "using System;\n",
    "using System.Collections;\n",
    "\n",
    "namespace VISUALSTUDIO\n",
    "{\n",
    "  class Program\n",
    "  {\n",
    "    static void Main(string[] args)\n",
    "    {\n",
    "         \n",
    "            string output_even = \"\";\n",
    "            string output_odd = \"\";\n",
    "            Console.WriteLine(\"Input the number of elements to be stored in the array \");\n",
    "            int n = Convert.ToInt32(Console.ReadLine());\n",
    "            int[] test_data = new int[n] ;\n",
    "            Console.WriteLine(\"Input 5 elements in the array :\");\n",
    "            for (int i = 0; i < n; i++)\n",
    "            {\n",
    "                Console.WriteLine(\"element \" + i + \":\");\n",
    "                test_data[i] = Convert.ToInt32(Console.ReadLine());\n",
    "    \n",
    "            }\n",
    "\n",
    "\n",
    "            for (int i = 0; i < test_data.Length; ++i) { \n",
    " \n",
    "              try{\n",
    "\n",
    "                if (test_data[i] % 2 == 0)\n",
    "                {\n",
    "           \n",
    "                    output_even = output_even + test_data[i]+\" \"; \n",
    "                  \n",
    "                }\n",
    "                else\n",
    "\n",
    "                {\n",
    "           \n",
    "                    output_odd = output_odd + test_data[i] + \" \";\n",
    "                }\n",
    "          }\n",
    "            catch(Exception ex){ Console.WriteLine(\"index out of range \");}\n",
    "        }\n",
    "\n",
    "    Console.WriteLine(\"The Even elements are: \");\n",
    "    Console.WriteLine(output_even);\n",
    "\n",
    "    Console.WriteLine(\"The Odd elements are: \");\n",
    "    Console.WriteLine(output_odd);\n",
    "  }\n",
    "}\n",
    "}"
   ]
  },
  {
   "cell_type": "markdown",
   "id": "14ff24df",
   "metadata": {},
   "source": [
    "![title](4.png)"
   ]
  },
  {
   "cell_type": "markdown",
   "id": "3ff65431",
   "metadata": {},
   "source": [
    "#  Question 5 C#\n",
    " a. Write a function inside(x,y,x1,y1,x2,y2) that returns True or False\n",
    " depending on whether the point (x,y) lies in the rectangle with lower left\n",
    " corner (x1,y1) and upper right corner (x2,y2).\n",
    "> inside(1,1,0,0,2,3)\n",
    "\n",
    "True\n",
    "\n",
    "> inside(-1,-1,0,0,2,3)\n",
    "\n",
    "False\n",
    "\n",
    " b. Use function inside() from part a. to write an expression that tests whether\n",
    "the point (1,1) lies in both of the following rectangles: one with lower left\n",
    "corner (0.3, 0.5) and upper right corner (1.1, 0.7) and the other with lower\n",
    " left corner (0.5, 0.2) and upper right corner (1.1, 2). "
   ]
  },
  {
   "cell_type": "markdown",
   "id": "f73d26d8",
   "metadata": {},
   "source": [
    "## 5 A) SOLUTION"
   ]
  },
  {
   "cell_type": "code",
   "execution_count": null,
   "id": "48f6b341",
   "metadata": {},
   "outputs": [],
   "source": [
    "using System.Linq;\n",
    "using System;\n",
    "using System.Collections;\n",
    "\n",
    "namespace VISUALSTUDIO\n",
    "{\n",
    "  class Program\n",
    "  {\n",
    "    static void Main(string[] args)\n",
    "    {\n",
    "         Console.WriteLine(\"Input co-ordinates to check if within rectangle: \");\n",
    "\n",
    "        float x = float.Parse(Console.ReadLine());\n",
    "        float y = float.Parse(Console.ReadLine());\n",
    "\n",
    "        float x1 = float.Parse(Console.ReadLine());\n",
    "\n",
    "        float y1 = float.Parse(Console.ReadLine());\n",
    "\n",
    "        float x2 = float.Parse(Console.ReadLine());\n",
    "\n",
    "        float y2 = float.Parse(Console.ReadLine());\n",
    "        Console.WriteLine(\"Inside(\" + x + \",\" + y + \",\" + x1 + \",\" + y1 + \",\" + x2 + \",\" + y2+\")\");\n",
    "        WITHIN rect = new WITHIN();\n",
    "        bool val = rect.Inside(x, y, x1, y1, x2, y2);\n",
    "        Console.WriteLine(val);\n",
    "  }\n",
    "}\n",
    "    \n",
    "     class WITHIN\n",
    "    {\n",
    "      \n",
    "\n",
    "        public bool Inside(float x, float y, float x1, float y1, float x2, float y2)\n",
    "        {   \n",
    "            if (x < x2 && y < y2 && x > x1 && x > x1 && y > y1) { return true; }\n",
    "            else return false;\n",
    "\n",
    "        }\n",
    "       \n",
    "    }\n",
    "}"
   ]
  },
  {
   "cell_type": "markdown",
   "id": "1c52c39f",
   "metadata": {},
   "source": [
    "![title](5a.png)"
   ]
  },
  {
   "attachments": {},
   "cell_type": "markdown",
   "id": "ab2d621e",
   "metadata": {},
   "source": [
    "![image.png](5a2.png)"
   ]
  },
  {
   "cell_type": "markdown",
   "id": "c6520a35",
   "metadata": {},
   "source": [
    "## 5 b) SOLUTION"
   ]
  },
  {
   "cell_type": "code",
   "execution_count": null,
   "id": "fe460b48",
   "metadata": {},
   "outputs": [],
   "source": [
    "using System.Linq;\n",
    "using System;\n",
    "using System.Collections;\n",
    "\n",
    "namespace VISUALSTUDIO\n",
    "{\n",
    "  class Program\n",
    "  {\n",
    "    static void Main(string[] args)\n",
    "    {\n",
    "         \n",
    "       WITHIN rect1 = new WITHIN();\n",
    "        Console.WriteLine(\"CHECK TO SEE IN FIRST SET OF CO-ORDINATES: \");\n",
    "        bool value = rect1.Inside(1, 1, (float)0.3, (float)0.5, (float)1.1, (float)0.7);\n",
    "        Console.WriteLine(value);\n",
    "        bool value2 = rect1.Inside(1, 1, (float)0.5, (float)0.2, (float)1.1, 2);\n",
    "        Console.WriteLine(\"CHECK TO SEE IN SECOND SET OF CO-ORDINATES: \");\n",
    "        Console.WriteLine(value2);\n",
    "\n",
    "        if (value && value2) { Console.WriteLine(\"exists within both rectangles\"); }\n",
    "        else\n",
    "        {\n",
    "            Console.WriteLine(\"Doesn't exist within both sets of co-ordinates\");\n",
    "            if (value) { Console.WriteLine(\"Exists only within first set of co-ordinates\"); }\n",
    "            else { Console.WriteLine(\"Exists only within second set of co-ordinates\"); }\n",
    "\n",
    "\n",
    "        }\n",
    "\n",
    "   }\n",
    "  }\n",
    "      class WITHIN\n",
    "  {\n",
    "      \n",
    "\n",
    "        public bool Inside(float x, float y, float x1, float y1, float x2, float y2)\n",
    "        {   \n",
    "            if (x < x2 && y < y2 && x > x1 && x > x1 && y > y1) { return true; }\n",
    "            else return false;\n",
    "\n",
    "        }\n",
    "       \n",
    "    }\n",
    "\n",
    "    \n",
    "}"
   ]
  },
  {
   "attachments": {},
   "cell_type": "markdown",
   "id": "20293623",
   "metadata": {},
   "source": [
    "![image.png](5.png)"
   ]
  },
  {
   "cell_type": "markdown",
   "id": "3599e052",
   "metadata": {},
   "source": [
    "# Question 6 Python\n",
    "16. You can turn a word into pig-Latin using the following two rules (simplified):\n",
    " • If the word starts with a consonant, move that letter to the end and append\n",
    "'ay'. For example, 'happy' becomes 'appyhay' and 'pencil' becomes 'encilpay'.\n",
    "• If the word starts with a vowel, simply append 'way' to the end of the word.\n",
    "For example, 'enter' becomes 'enterway' and 'other' becomes 'otherway' . For\n",
    "our purposes, there are 5 vowels: a, e, i, o, u (so we count y as a consonant).\n",
    "Write a function pig() that takes a word (i.e., a string) as input and returns its pigLatin form. Your function should still work if the input word contains upper case\n",
    "characters. Your output should always be lower case however.\n",
    "\n",
    "> pig('happy')\n",
    "\n",
    "'appyhay'\n",
    "\n",
    "\n",
    ">pig('Enter')\n",
    "\n",
    "'enterway' "
   ]
  },
  {
   "cell_type": "code",
   "execution_count": 2,
   "id": "2fa7e57a",
   "metadata": {},
   "outputs": [
    {
     "name": "stdout",
     "output_type": "stream",
     "text": [
      "Enter value: hey\n",
      "eyhay\n"
     ]
    }
   ],
   "source": [
    "pig_input = input(\"Enter value: \");\n",
    "def pig(value):\n",
    "    if value[0] in ['a','e','i','o','u']:\n",
    "        output= value+'way';\n",
    "        print(output);\n",
    "    else:\n",
    "        output=value[1:]+value[0]+'ay'\n",
    "        print(output);\n",
    "\n",
    "    \n",
    "pig(pig_input);"
   ]
  },
  {
   "cell_type": "markdown",
   "id": "fbc23216",
   "metadata": {},
   "source": [
    "# Question 7 Python\n",
    "File bloodtype1.txt records blood-types of patients (A, B, AB, O or OO) at a clinic.\n",
    "Write a function bldcount() that reads the file with name name and reports (i.e.,\n",
    "prints) how many patients there are in each bloodtype.\n",
    "\n",
    "> bldcount('bloodtype.txt')\n",
    "\n",
    "There are 10 patients of blood type A.\n",
    "\n",
    "There is one patient of blood type B.\n",
    "\n",
    "There are 10 patients of blood type AB.\n",
    "\n",
    "There are 12 patients of blood type O.\n",
    "\n",
    "There are no patients of blood type OO.\n"
   ]
  },
  {
   "cell_type": "code",
   "execution_count": 34,
   "id": "441b4735",
   "metadata": {},
   "outputs": [
    {
     "name": "stdout",
     "output_type": "stream",
     "text": [
      "There are 15 patients of blood type A\n",
      "There is 1 patient of blood type B\n",
      "There are 13 patients of blood type AB\n",
      "There are 15 patients of blood type O\n",
      "There are no patients of blood type OO\n"
     ]
    }
   ],
   "source": [
    "Frequency_count = {'A':0,'B':0,'AB':0,'O':0,'OO':0}\n",
    "\n",
    "def bldcount(file):\n",
    "    with open(file) as b_type:\n",
    "        while Patient_type := b_type.readline():\n",
    "                Patient_type=Patient_type.rstrip();\n",
    "                Patient_records = Patient_type.split(\" \");\n",
    "    \n",
    "    for record in Patient_records:\n",
    "        Frequency_count[record]+=1;\n",
    "\n",
    "    for key in Frequency_count:\n",
    "        if Frequency_count[key]==1:\n",
    "            print(\"There is \"+ str(Frequency_count[key])+\" patient of blood type \"+key);\n",
    "        elif Frequency_count[key]==0:\n",
    "             print(\"There are no patients of blood type \"+key);\n",
    "        else:\n",
    "            print(\"There are \"+ str(Frequency_count[key])+\" patients of blood type \"+key);\n",
    "   \n",
    "\n",
    "\n",
    "\n",
    "bldcount('bloostypes.txt');\n",
    "\n",
    "#reference https://stackoverflow.com/questions/51345024/read-text-file-and-parse-in-python\n",
    "#https://stackabuse.com/python-split-string-into-list-with-split/\n",
    "\n"
   ]
  },
  {
   "cell_type": "markdown",
   "id": "752ceeaa",
   "metadata": {},
   "source": [
    "# Question 8 Python\n",
    "Write a function curconv() that takes as input:\n",
    "1. a currency represented using a string (e.g., 'JPY' for the Japanese Yen or\n",
    "'EUR' for the Euro)\n",
    "2. an amount\n",
    "and then converts and returns the amount in US dollars.\n",
    "\n",
    "> curconv('EUR', 100)\n",
    "\n",
    "122.96544\n",
    "\n",
    "> curconv('JPY', 100)\n",
    "\n",
    "1.241401\n",
    "The currency rates you will need are stored in file currencies.txt:"
   ]
  },
  {
   "cell_type": "code",
   "execution_count": 9,
   "id": "330b8f77",
   "metadata": {},
   "outputs": [
    {
     "name": "stdout",
     "output_type": "stream",
     "text": [
      "Enter type of currency: jpy\n",
      "Enter amount of currency: 100\n",
      "1.241401\n"
     ]
    }
   ],
   "source": [
    "i=0;\n",
    "Currency_ref = {}\n",
    "new_list = []\n",
    "with open(\"currencies.txt\") as curr:\n",
    "    while string := curr.readline():\n",
    "        values = string.split(\"\\t\");\n",
    "        Currency_ref[values[i]]=float(values[i+1]);\n",
    "\n",
    "        \n",
    "def curconv(currency,value):\n",
    "    USD_VAL= Currency_ref[currency];\n",
    "    USD_VAL=USD_VAL* value;\n",
    "    print(USD_VAL);\n",
    "      \n",
    "CURRENCY_TYPE = input(\"Enter type of currency: \"); \n",
    "CURRENCY_TYPE =CURRENCY_TYPE.upper();\n",
    "CURRENCY_VALUE=input(\"Enter amount of currency: \"); \n",
    "CURRENCY_VALUE= float(CURRENCY_VALUE);\n",
    "curconv(CURRENCY_TYPE,CURRENCY_VALUE);\n",
    "\n",
    "##reference https://stackoverflow.com/questions/51345024/read-text-file-and-parse-in-python\n",
    "\n",
    "\n",
    "\n"
   ]
  },
  {
   "cell_type": "markdown",
   "id": "a943cb04",
   "metadata": {},
   "source": [
    "# Question 9 Python\n",
    "Each of the following will cause an exception (an error). Identify what type of\n",
    "exception each will cause.\n",
    "\n",
    "Trying to add incompatible variables, as in\n",
    "adding 6 + ‘a’\n",
    "\n",
    "Referring to the 12th item of a list that has only 10\n",
    "items\n",
    "\n",
    "Using a value that is out of range for a function’s\n",
    "input, such as calling math.sqrt(-1.0)\n",
    "\n",
    "Using an undeclared variable, such as print(x)\n",
    "when x has not been defined\n",
    "\n",
    "Trying to open a file that does not exist, such as\n",
    "mistyping the file name or looking in the wrong\n",
    "directory. "
   ]
  },
  {
   "cell_type": "markdown",
   "id": "bae890b4",
   "metadata": {},
   "source": [
    "## SOLUTION :The following error occur when:\n",
    "## Trying to add incompatible variables, as in adding 6 + ‘a’:\n",
    "TypeError: unsupported operand type(s)"
   ]
  },
  {
   "cell_type": "code",
   "execution_count": 26,
   "id": "3f7c8b5c",
   "metadata": {},
   "outputs": [
    {
     "ename": "TypeError",
     "evalue": "unsupported operand type(s) for +: 'int' and 'str'",
     "output_type": "error",
     "traceback": [
      "\u001b[1;31m---------------------------------------------------------------------------\u001b[0m",
      "\u001b[1;31mTypeError\u001b[0m                                 Traceback (most recent call last)",
      "\u001b[1;32m~\\AppData\\Local\\Temp/ipykernel_5020/3700055634.py\u001b[0m in \u001b[0;36m<module>\u001b[1;34m\u001b[0m\n\u001b[1;32m----> 1\u001b[1;33m \u001b[0mprint\u001b[0m\u001b[1;33m(\u001b[0m\u001b[1;36m6\u001b[0m\u001b[1;33m+\u001b[0m\u001b[1;34m'a'\u001b[0m\u001b[1;33m)\u001b[0m\u001b[1;33m;\u001b[0m\u001b[1;33m\u001b[0m\u001b[1;33m\u001b[0m\u001b[0m\n\u001b[0m",
      "\u001b[1;31mTypeError\u001b[0m: unsupported operand type(s) for +: 'int' and 'str'"
     ]
    }
   ],
   "source": [
    "print(6+'a');\n"
   ]
  },
  {
   "cell_type": "markdown",
   "id": "fd04910b",
   "metadata": {},
   "source": [
    "## Referring to the 12th item of a list that has only 10 items\n",
    "IndexError: list index out of range"
   ]
  },
  {
   "cell_type": "code",
   "execution_count": 27,
   "id": "1e10a30a",
   "metadata": {},
   "outputs": [
    {
     "ename": "IndexError",
     "evalue": "list index out of range",
     "output_type": "error",
     "traceback": [
      "\u001b[1;31m---------------------------------------------------------------------------\u001b[0m",
      "\u001b[1;31mIndexError\u001b[0m                                Traceback (most recent call last)",
      "\u001b[1;32m~\\AppData\\Local\\Temp/ipykernel_5020/621250114.py\u001b[0m in \u001b[0;36m<module>\u001b[1;34m\u001b[0m\n\u001b[0;32m      1\u001b[0m \u001b[0marray\u001b[0m\u001b[1;33m=\u001b[0m\u001b[1;33m[\u001b[0m\u001b[1;36m1\u001b[0m\u001b[1;33m,\u001b[0m\u001b[1;36m2\u001b[0m\u001b[1;33m,\u001b[0m\u001b[1;36m3\u001b[0m\u001b[1;33m,\u001b[0m\u001b[1;36m4\u001b[0m\u001b[1;33m]\u001b[0m\u001b[1;33m;\u001b[0m\u001b[1;33m\u001b[0m\u001b[1;33m\u001b[0m\u001b[0m\n\u001b[1;32m----> 2\u001b[1;33m \u001b[0mprint\u001b[0m\u001b[1;33m(\u001b[0m\u001b[0marray\u001b[0m\u001b[1;33m[\u001b[0m\u001b[1;36m10\u001b[0m\u001b[1;33m]\u001b[0m\u001b[1;33m)\u001b[0m\u001b[1;33m;\u001b[0m\u001b[1;33m\u001b[0m\u001b[1;33m\u001b[0m\u001b[0m\n\u001b[0m",
      "\u001b[1;31mIndexError\u001b[0m: list index out of range"
     ]
    }
   ],
   "source": [
    "array=[1,2,3,4];\n",
    "print(array[10]);"
   ]
  },
  {
   "cell_type": "markdown",
   "id": "a4f37210",
   "metadata": {},
   "source": [
    "## Using a value that is out of range for a function’s input, such as calling math.sqrt(-1.0)\n",
    "ValueError"
   ]
  },
  {
   "cell_type": "code",
   "execution_count": 29,
   "id": "fc9d57f1",
   "metadata": {},
   "outputs": [
    {
     "ename": "ValueError",
     "evalue": "math domain error",
     "output_type": "error",
     "traceback": [
      "\u001b[1;31m---------------------------------------------------------------------------\u001b[0m",
      "\u001b[1;31mValueError\u001b[0m                                Traceback (most recent call last)",
      "\u001b[1;32m~\\AppData\\Local\\Temp/ipykernel_5020/2203837423.py\u001b[0m in \u001b[0;36m<module>\u001b[1;34m\u001b[0m\n\u001b[0;32m      1\u001b[0m \u001b[1;32mimport\u001b[0m \u001b[0mmath\u001b[0m\u001b[1;33m\u001b[0m\u001b[1;33m\u001b[0m\u001b[0m\n\u001b[1;32m----> 2\u001b[1;33m \u001b[0mmath\u001b[0m\u001b[1;33m.\u001b[0m\u001b[0msqrt\u001b[0m\u001b[1;33m(\u001b[0m\u001b[1;33m-\u001b[0m\u001b[1;36m1.0\u001b[0m\u001b[1;33m)\u001b[0m\u001b[1;33m\u001b[0m\u001b[1;33m\u001b[0m\u001b[0m\n\u001b[0m",
      "\u001b[1;31mValueError\u001b[0m: math domain error"
     ]
    }
   ],
   "source": [
    "import math \n",
    "math.sqrt(-1.0)"
   ]
  },
  {
   "cell_type": "markdown",
   "id": "cba5f06f",
   "metadata": {},
   "source": [
    "## Using an undeclared variable, such as print(x) when x has not been defined\n",
    "NameError: name  is not defined"
   ]
  },
  {
   "cell_type": "code",
   "execution_count": 30,
   "id": "2a42eb2f",
   "metadata": {},
   "outputs": [
    {
     "ename": "NameError",
     "evalue": "name 'ff' is not defined",
     "output_type": "error",
     "traceback": [
      "\u001b[1;31m---------------------------------------------------------------------------\u001b[0m",
      "\u001b[1;31mNameError\u001b[0m                                 Traceback (most recent call last)",
      "\u001b[1;32m~\\AppData\\Local\\Temp/ipykernel_5020/2653666672.py\u001b[0m in \u001b[0;36m<module>\u001b[1;34m\u001b[0m\n\u001b[1;32m----> 1\u001b[1;33m \u001b[0mprint\u001b[0m\u001b[1;33m(\u001b[0m\u001b[0mff\u001b[0m\u001b[1;33m)\u001b[0m\u001b[1;33m;\u001b[0m\u001b[1;33m\u001b[0m\u001b[1;33m\u001b[0m\u001b[0m\n\u001b[0m",
      "\u001b[1;31mNameError\u001b[0m: name 'ff' is not defined"
     ]
    }
   ],
   "source": [
    "print(ff);"
   ]
  },
  {
   "cell_type": "markdown",
   "id": "fb30f5da",
   "metadata": {},
   "source": [
    "## Trying to open a file that does not exist, such as mistyping the file name or looking in the wrong directory.\n",
    "FileNotFoundError: [Errno 2] No such file or directory: "
   ]
  },
  {
   "cell_type": "code",
   "execution_count": 31,
   "id": "484fa369",
   "metadata": {},
   "outputs": [
    {
     "ename": "FileNotFoundError",
     "evalue": "[Errno 2] No such file or directory: 'unknown.txt'",
     "output_type": "error",
     "traceback": [
      "\u001b[1;31m---------------------------------------------------------------------------\u001b[0m",
      "\u001b[1;31mFileNotFoundError\u001b[0m                         Traceback (most recent call last)",
      "\u001b[1;32m~\\AppData\\Local\\Temp/ipykernel_5020/3211468307.py\u001b[0m in \u001b[0;36m<module>\u001b[1;34m\u001b[0m\n\u001b[1;32m----> 1\u001b[1;33m \u001b[0mfile\u001b[0m \u001b[1;33m=\u001b[0m \u001b[0mopen\u001b[0m\u001b[1;33m(\u001b[0m\u001b[1;34m'unknown.txt'\u001b[0m\u001b[1;33m,\u001b[0m \u001b[0mmode\u001b[0m \u001b[1;33m=\u001b[0m \u001b[1;34m'r'\u001b[0m\u001b[1;33m)\u001b[0m\u001b[1;33m\u001b[0m\u001b[1;33m\u001b[0m\u001b[0m\n\u001b[0m\u001b[0;32m      2\u001b[0m \u001b[0mlines\u001b[0m \u001b[1;33m=\u001b[0m \u001b[0mfile\u001b[0m\u001b[1;33m.\u001b[0m\u001b[0mreadlines\u001b[0m\u001b[1;33m(\u001b[0m\u001b[1;33m)\u001b[0m\u001b[1;33m\u001b[0m\u001b[1;33m\u001b[0m\u001b[0m\n",
      "\u001b[1;31mFileNotFoundError\u001b[0m: [Errno 2] No such file or directory: 'unknown.txt'"
     ]
    }
   ],
   "source": [
    "file = open('unknown.txt', mode = 'r')\n",
    "lines = file.readlines()"
   ]
  },
  {
   "cell_type": "markdown",
   "id": "a7e8ca78",
   "metadata": {},
   "source": [
    "# Question 10 Python\n",
    "Encryption is the process of hiding the meaning of a text by substituting letters in the\n",
    "message with other letters, according to some system. If the process is successful, no\n",
    "one but the intended recipient can understand the encrypted message. \n",
    "Cryptanalysis refers to attempts to undo the encryption, even if some details of the encryption are\n",
    "unknown (for example, if an encrypted message has been intercepted). The first step\n",
    "of cryptanalysis is often to build up a table of letter frequencies in the encrypted text.\n",
    "Assume that the string letters is already defined as\n",
    "'abcdefghijklmnopqrstuvwxyz'. Write a function called frequencies()\n",
    "that takes a string as its only parameter, and returns a list of integers, showing the\n",
    "number of times each character appears in the text. Your function may ignore any\n",
    "characters that are not in letters.\n",
    "\n",
    "> frequencies('The quick red fox got bored and went home.')\n",
    "\n",
    "[1, 1, 1, 3, 5, 1, 1, 2, 1, 0, 1, 0, 1, 2, 4, 0, 1, 2, 0, 2,\n",
    "1, 0, 1, 1, 0, 0]\n",
    "\n",
    "> frequencies('apple')"
   ]
  },
  {
   "cell_type": "code",
   "execution_count": 3,
   "id": "98af18d7",
   "metadata": {},
   "outputs": [
    {
     "name": "stdout",
     "output_type": "stream",
     "text": [
      "Enter value: The quick red fox got bored and went home\n",
      "[1, 1, 1, 3, 5, 1, 1, 2, 1, 0, 1, 0, 1, 2, 4, 0, 1, 2, 0, 2, 1, 0, 1, 1, 0, 0]\n"
     ]
    }
   ],
   "source": [
    "freq_string = input(\"Enter value: \");\n",
    "def frequencies(value):\n",
    "    alphabet ={\n",
    "       'a':0,'b':0,'c':0,'d':0,'e':0,'f':0,'g':0,'h':0,'i':0,'j':0,'k':0,'l':0,'m':0,'n':0,'o':0,'p':0,'q':0,'r':0,'s':0,\n",
    "        't':0,'u':0,'v':0,'w':0,'x':0,'y':0,'z':0\n",
    "    }\n",
    "    keys= alphabet.keys();\n",
    "   # print(keys);\n",
    "    \n",
    "    for char in value:\n",
    "        if char not in keys:\n",
    "            continue\n",
    "        else:\n",
    "            alphabet[char]+=1;\n",
    "    output = alphabet.values()\n",
    "    output= list(output)\n",
    "    print(output);\n",
    "\n",
    "\n",
    "    \n",
    "frequencies(freq_string);"
   ]
  }
 ],
 "metadata": {
  "kernelspec": {
   "display_name": "Python 3 (ipykernel)",
   "language": "python",
   "name": "python3"
  },
  "language_info": {
   "codemirror_mode": {
    "name": "ipython",
    "version": 3
   },
   "file_extension": ".py",
   "mimetype": "text/x-python",
   "name": "python",
   "nbconvert_exporter": "python",
   "pygments_lexer": "ipython3",
   "version": "3.9.7"
  }
 },
 "nbformat": 4,
 "nbformat_minor": 5
}
